{
 "cells": [
  {
   "cell_type": "code",
   "execution_count": 1,
   "metadata": {},
   "outputs": [],
   "source": [
    "// Using Plotly in Jupiter with Javascritp!\n",
    "// https://github.com/plotly/plotly-notebook-js\n"
   ]
  },
  {
   "cell_type": "code",
   "execution_count": 2,
   "metadata": {},
   "outputs": [
    {
     "data": {
      "text/html": [
       "<div class='plotly-plot'><div id='notebook-plot-1573361315738'></div><script>function plot(){Plotly.plot('notebook-plot-1573361315738',[{\"x\":[15,25,35],\"y\":[35,45,55]}],{\"title\":\"PLOTLY in JUPYTER using JAVASCRIPT!\"});}if(window.Plotly){plot();}else if(!window.require){var head = document.head || document.getElementsByTagName('head')[0];var s = document.createElement('script');s.src = 'https://cdn.plot.ly/plotly-latest.min.js';s.type = 'text/javascript';s.async = false;s.onreadystatechange = s.onload = plot;head.appendChild(s);}else{require(['/notebooks/node_modules/plotly-notebook-js/build/plotly.min.js'], function(Plotly){window.Plotly = Plotly;plot();});}</script></div>"
      ]
     },
     "execution_count": 2,
     "metadata": {},
     "output_type": "execute_result"
    }
   ],
   "source": [
    "var Plot = require('plotly-notebook-js');\n",
    "\n",
    "var myPlot = Plot.createPlot([{ x: [15,25,35], y: [35,45,55] }], { title: 'PLOTLY in JUPYTER using JAVASCRIPT!' });\n",
    "\n",
    "$$html$$ = myPlot.render();"
   ]
  },
  {
   "cell_type": "code",
   "execution_count": 3,
   "metadata": {},
   "outputs": [
    {
     "data": {
      "text/html": [
       "<div class='plotly-plot'><div id='notebook-plot-1573361316622'></div><script>function plot(){Plotly.plot('notebook-plot-1573361316622',[{\"x\":[10,25,39],\"y\":[40,53,62]},{\"x\":[15,21,40],\"y\":[6,5,3],\"marker\":{\"color\":\"red\"}},{\"x\":[15,25,35],\"y\":[35,45,55]}],{\"title\":\"PLOTLY in JUPYTER using JAVASCRIPT!\"});}if(window.Plotly){plot();}else if(!window.require){var head = document.head || document.getElementsByTagName('head')[0];var s = document.createElement('script');s.src = 'https://cdn.plot.ly/plotly-latest.min.js';s.type = 'text/javascript';s.async = false;s.onreadystatechange = s.onload = plot;head.appendChild(s);}else{require(['/notebooks/node_modules/plotly-notebook-js/build/plotly.min.js'], function(Plotly){window.Plotly = Plotly;plot();});}</script></div>"
      ]
     },
     "execution_count": 3,
     "metadata": {},
     "output_type": "execute_result"
    }
   ],
   "source": [
    "$$html$$ = myPlot.addTraces([{ x: [10,25,39], y: [40,53,62]}, { x: [15,21,40], y: [6,5,3] }])\n",
    "  .restyle({ marker: { color: 'red' }}, 1)\n",
    "  .render();"
   ]
  },
  {
   "cell_type": "code",
   "execution_count": null,
   "metadata": {},
   "outputs": [],
   "source": []
  },
  {
   "cell_type": "code",
   "execution_count": null,
   "metadata": {},
   "outputs": [],
   "source": []
  }
 ],
 "metadata": {
  "kernelspec": {
   "display_name": "Javascript (Node.js)",
   "language": "javascript",
   "name": "javascript"
  },
  "language_info": {
   "file_extension": ".js",
   "mimetype": "application/javascript",
   "name": "javascript",
   "version": "12.13.0"
  }
 },
 "nbformat": 4,
 "nbformat_minor": 2
}
